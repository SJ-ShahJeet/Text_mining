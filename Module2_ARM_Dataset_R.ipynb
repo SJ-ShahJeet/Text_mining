{
 "cells": [
  {
   "cell_type": "code",
   "execution_count": 4,
   "id": "2811ebbe-91f2-489f-9c24-1037e9effa00",
   "metadata": {},
   "outputs": [
    {
     "name": "stderr",
     "output_type": "stream",
     "text": [
      "[nltk_data] Downloading package punkt to /Users/jeetshah/nltk_data...\n",
      "[nltk_data]   Package punkt is already up-to-date!\n",
      "[nltk_data] Downloading package stopwords to\n",
      "[nltk_data]     /Users/jeetshah/nltk_data...\n",
      "[nltk_data]   Package stopwords is already up-to-date!\n"
     ]
    },
    {
     "data": {
      "text/plain": [
       "True"
      ]
     },
     "execution_count": 4,
     "metadata": {},
     "output_type": "execute_result"
    }
   ],
   "source": [
    "import pandas as pd\n",
    "import nltk\n",
    "from nltk.tokenize import word_tokenize\n",
    "from nltk.corpus import stopwords\n",
    "import string\n",
    "\n",
    "nltk.download('punkt')\n",
    "nltk.download('stopwords')"
   ]
  },
  {
   "cell_type": "code",
   "execution_count": 5,
   "id": "968d51ba-da15-4697-930a-b0ec0bb34db0",
   "metadata": {},
   "outputs": [],
   "source": [
    "df = pd.read_csv(\"labeled_dataset_4_categories.csv\")  \n",
    "df.dropna(subset=['Text'], inplace=True)  "
   ]
  },
  {
   "cell_type": "code",
   "execution_count": 6,
   "id": "baccaf57-55d8-4e07-9ab5-45baf4aff183",
   "metadata": {},
   "outputs": [],
   "source": [
    "top_words = set(stopwords.words('english'))\n",
    "\n",
    "def clean_and_tokenize(text):\n",
    "    text = text.lower()\n",
    "    tokens = word_tokenize(text)\n",
    "    tokens = [word for word in tokens if word.isalpha()]  # keep only alphabetic tokens\n",
    "    tokens = [word for word in tokens if word not in stop_words]\n",
    "    return tokens"
   ]
  },
  {
   "cell_type": "code",
   "execution_count": 7,
   "id": "2481358f-b758-469b-a221-4c1ad6d3e111",
   "metadata": {},
   "outputs": [],
   "source": [
    "df['tokens'] = df['Text'].apply(clean_and_tokenize)"
   ]
  },
  {
   "cell_type": "code",
   "execution_count": 8,
   "id": "8165aeff-d62d-4544-95b6-4ba26401f3b3",
   "metadata": {},
   "outputs": [],
   "source": [
    "transactions = []\n",
    "\n",
    "for idx, row in df.iterrows():\n",
    "    for token in row['tokens']:\n",
    "        transactions.append({'transaction_id': idx + 1, 'item': token})\n",
    "\n",
    "transactions_df = pd.DataFrame(transactions)"
   ]
  },
  {
   "cell_type": "code",
   "execution_count": 9,
   "id": "1afdb201-0efa-4d5b-895f-9b6444ca224b",
   "metadata": {},
   "outputs": [
    {
     "data": {
      "text/html": [
       "<div>\n",
       "<style scoped>\n",
       "    .dataframe tbody tr th:only-of-type {\n",
       "        vertical-align: middle;\n",
       "    }\n",
       "\n",
       "    .dataframe tbody tr th {\n",
       "        vertical-align: top;\n",
       "    }\n",
       "\n",
       "    .dataframe thead th {\n",
       "        text-align: right;\n",
       "    }\n",
       "</style>\n",
       "<table border=\"1\" class=\"dataframe\">\n",
       "  <thead>\n",
       "    <tr style=\"text-align: right;\">\n",
       "      <th></th>\n",
       "      <th>transaction_id</th>\n",
       "      <th>item</th>\n",
       "    </tr>\n",
       "  </thead>\n",
       "  <tbody>\n",
       "    <tr>\n",
       "      <th>0</th>\n",
       "      <td>1</td>\n",
       "      <td>plastic</td>\n",
       "    </tr>\n",
       "    <tr>\n",
       "      <th>1</th>\n",
       "      <td>1</td>\n",
       "      <td>mind</td>\n",
       "    </tr>\n",
       "    <tr>\n",
       "      <th>2</th>\n",
       "      <td>1</td>\n",
       "      <td>assessing</td>\n",
       "    </tr>\n",
       "    <tr>\n",
       "      <th>3</th>\n",
       "      <td>1</td>\n",
       "      <td>risks</td>\n",
       "    </tr>\n",
       "    <tr>\n",
       "      <th>4</th>\n",
       "      <td>1</td>\n",
       "      <td>nanoplastics</td>\n",
       "    </tr>\n",
       "    <tr>\n",
       "      <th>...</th>\n",
       "      <td>...</td>\n",
       "      <td>...</td>\n",
       "    </tr>\n",
       "    <tr>\n",
       "      <th>1415470</th>\n",
       "      <td>3448</td>\n",
       "      <td>interests</td>\n",
       "    </tr>\n",
       "    <tr>\n",
       "      <th>1415471</th>\n",
       "      <td>3448</td>\n",
       "      <td>working</td>\n",
       "    </tr>\n",
       "    <tr>\n",
       "      <th>1415472</th>\n",
       "      <td>3448</td>\n",
       "      <td>people</td>\n",
       "    </tr>\n",
       "    <tr>\n",
       "      <th>1415473</th>\n",
       "      <td>3448</td>\n",
       "      <td>make</td>\n",
       "    </tr>\n",
       "    <tr>\n",
       "      <th>1415474</th>\n",
       "      <td>3448</td>\n",
       "      <td>judgment</td>\n",
       "    </tr>\n",
       "  </tbody>\n",
       "</table>\n",
       "<p>1415475 rows × 2 columns</p>\n",
       "</div>"
      ],
      "text/plain": [
       "         transaction_id          item\n",
       "0                     1       plastic\n",
       "1                     1          mind\n",
       "2                     1     assessing\n",
       "3                     1         risks\n",
       "4                     1  nanoplastics\n",
       "...                 ...           ...\n",
       "1415470            3448     interests\n",
       "1415471            3448       working\n",
       "1415472            3448        people\n",
       "1415473            3448          make\n",
       "1415474            3448      judgment\n",
       "\n",
       "[1415475 rows x 2 columns]"
      ]
     },
     "execution_count": 9,
     "metadata": {},
     "output_type": "execute_result"
    }
   ],
   "source": [
    "transactions_df"
   ]
  },
  {
   "cell_type": "code",
   "execution_count": 10,
   "id": "c7c56129-4911-411b-a334-d0e095ab631c",
   "metadata": {},
   "outputs": [],
   "source": [
    "transactions_df.to_csv(\"transactions.csv\", index=False)"
   ]
  },
  {
   "cell_type": "code",
   "execution_count": null,
   "id": "66036a48-7411-4076-8555-44476e3c3e58",
   "metadata": {},
   "outputs": [],
   "source": []
  }
 ],
 "metadata": {
  "kernelspec": {
   "display_name": "Python 3 (ipykernel)",
   "language": "python",
   "name": "python3"
  },
  "language_info": {
   "codemirror_mode": {
    "name": "ipython",
    "version": 3
   },
   "file_extension": ".py",
   "mimetype": "text/x-python",
   "name": "python",
   "nbconvert_exporter": "python",
   "pygments_lexer": "ipython3",
   "version": "3.12.7"
  }
 },
 "nbformat": 4,
 "nbformat_minor": 5
}
