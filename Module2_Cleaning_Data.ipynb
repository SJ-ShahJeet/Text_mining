{
 "cells": [
  {
   "cell_type": "code",
   "execution_count": 1,
   "id": "76c8b764-1602-41b8-bd44-5b2e6940f9ae",
   "metadata": {},
   "outputs": [
    {
     "name": "stderr",
     "output_type": "stream",
     "text": [
      "[nltk_data] Downloading package stopwords to\n",
      "[nltk_data]     /Users/jeetshah/nltk_data...\n",
      "[nltk_data]   Package stopwords is already up-to-date!\n",
      "[nltk_data] Downloading package wordnet to\n",
      "[nltk_data]     /Users/jeetshah/nltk_data...\n",
      "[nltk_data]   Package wordnet is already up-to-date!\n",
      "[nltk_data] Downloading package omw-1.4 to\n",
      "[nltk_data]     /Users/jeetshah/nltk_data...\n"
     ]
    }
   ],
   "source": [
    "import pandas as pd\n",
    "import re\n",
    "import nltk\n",
    "from nltk.corpus import stopwords\n",
    "from nltk.stem import PorterStemmer, WordNetLemmatizer\n",
    "from sklearn.feature_extraction.text import CountVectorizer, TfidfVectorizer\n",
    "\n",
    "nltk.download('stopwords')\n",
    "nltk.download('wordnet')\n",
    "nltk.download('omw-1.4')\n",
    "\n",
    "# Load the labeled dataset\n",
    "df = pd.read_csv(\"labeled_dataset_4_categories.csv\")\n",
    "\n",
    "# Define cleaning function\n",
    "def clean_text(text):\n",
    "    text = str(text).lower()\n",
    "    text = re.sub(r'[^a-z\\s]', '', text)  # remove punctuation/numbers\n",
    "    tokens = text.split()\n",
    "    tokens = [word for word in tokens if word not in stopwords.words('english')]\n",
    "    return tokens\n",
    "\n",
    "# Clean and tokenize\n",
    "df[\"clean_tokens\"] = df[\"Text\"].apply(clean_text)"
   ]
  },
  {
   "cell_type": "code",
   "execution_count": 2,
   "id": "eadaa978-d171-41b8-b94e-156d721a6af2",
   "metadata": {},
   "outputs": [],
   "source": [
    "stemmer = PorterStemmer()\n",
    "df[\"stemmed\"] = df[\"clean_tokens\"].apply(lambda tokens: ' '.join([stemmer.stem(word) for word in tokens]))\n",
    "df_stemmed = df[[\"stemmed\", \"Semantic_Label_4\"]]\n",
    "df_stemmed.to_csv(\"cleaned_stemmed.csv\", index=False)\n"
   ]
  },
  {
   "cell_type": "code",
   "execution_count": 3,
   "id": "a5f59a7e-aaa9-4c32-8bb2-e43d211a5303",
   "metadata": {},
   "outputs": [],
   "source": [
    "lemmatizer = WordNetLemmatizer()\n",
    "df[\"lemmatized\"] = df[\"clean_tokens\"].apply(lambda tokens: ' '.join([lemmatizer.lemmatize(word) for word in tokens]))\n",
    "df_lemmatized = df[[\"lemmatized\", \"Semantic_Label_4\"]]\n",
    "df_lemmatized.to_csv(\"cleaned_lemmatized.csv\", index=False)\n"
   ]
  },
  {
   "cell_type": "code",
   "execution_count": 4,
   "id": "3d60ba3e-15e9-4b60-b5c2-3650c77a7b9d",
   "metadata": {},
   "outputs": [],
   "source": [
    "vectorizer = CountVectorizer(max_df=0.9, min_df=10, max_features=1000)\n",
    "X_count = vectorizer.fit_transform(df[\"lemmatized\"])\n",
    "count_df = pd.DataFrame(X_count.toarray(), columns=vectorizer.get_feature_names_out())\n",
    "count_df[\"label\"] = df[\"Semantic_Label_4\"].values\n",
    "count_df.to_csv(\"cleaned_countvectorizer.csv\", index=False)"
   ]
  },
  {
   "cell_type": "code",
   "execution_count": 5,
   "id": "cf48d24d-a980-4bdc-abc4-ca7566cb00d8",
   "metadata": {},
   "outputs": [],
   "source": [
    "tfidf_vectorizer = TfidfVectorizer(max_df=0.9, min_df=10, max_features=1000)\n",
    "X_tfidf = tfidf_vectorizer.fit_transform(df[\"lemmatized\"])\n",
    "tfidf_df = pd.DataFrame(X_tfidf.toarray(), columns=tfidf_vectorizer.get_feature_names_out())\n",
    "tfidf_df[\"label\"] = df[\"Semantic_Label_4\"].values\n",
    "tfidf_df.to_csv(\"cleaned_tfidf.csv\", index=False)"
   ]
  },
  {
   "cell_type": "code",
   "execution_count": null,
   "id": "a153e171-79d0-4896-8ed3-68467977d06a",
   "metadata": {},
   "outputs": [],
   "source": []
  }
 ],
 "metadata": {
  "kernelspec": {
   "display_name": "Python 3 (ipykernel)",
   "language": "python",
   "name": "python3"
  },
  "language_info": {
   "codemirror_mode": {
    "name": "ipython",
    "version": 3
   },
   "file_extension": ".py",
   "mimetype": "text/x-python",
   "name": "python",
   "nbconvert_exporter": "python",
   "pygments_lexer": "ipython3",
   "version": "3.12.7"
  }
 },
 "nbformat": 4,
 "nbformat_minor": 5
}
