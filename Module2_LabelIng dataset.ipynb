{
 "cells": [
  {
   "cell_type": "code",
   "execution_count": 4,
   "id": "4c8df081-e745-4437-a4a9-bc81075aa3d0",
   "metadata": {},
   "outputs": [
    {
     "name": "stdout",
     "output_type": "stream",
     "text": [
      "Done! Saved as labeled_dataset_4_categories.csv\n"
     ]
    }
   ],
   "source": [
    "from sentence_transformers import SentenceTransformer, util\n",
    "import pandas as pd\n",
    "import torch\n",
    "\n",
    "\n",
    "df = pd.read_csv(\"merged_news_data.csv\")\n",
    "\n",
    "\n",
    "model = SentenceTransformer('all-MiniLM-L6-v2')\n",
    "\n",
    "\n",
    "support_ban_examples = [\n",
    "    \"The government passed legislation to ban single-use plastics nationwide.\",\n",
    "    \"A new campaign encourages consumers to stop using plastic bags and straws.\",\n",
    "    \"Environmentalists celebrate new rules to phase out disposable plastics.\",\n",
    "    \"Stores are replacing plastic packaging with biodegradable alternatives.\",\n",
    "    \"New research shows plastic pollution is harming marine life, pushing for bans.\"\n",
    "]\n",
    "\n",
    "oppose_ban_examples = [\n",
    "    \"The new plastic ban is facing backlash from small business owners.\",\n",
    "    \"Some restaurants are pushing back against restrictions on plastic straws.\",\n",
    "    \"The mayor vetoed the proposed ban on single-use plastics.\",\n",
    "    \"Critics argue plastic alternatives are too costly and impractical.\",\n",
    "    \"A rollback on plastic regulations was praised by manufacturers.\"\n",
    "]\n",
    "\n",
    "neutral_examples = [\n",
    "    \"City officials held a meeting to discuss plastic regulations.\",\n",
    "    \"A study explored trends in plastic consumption over the last decade.\",\n",
    "    \"The report outlines various approaches to waste management in cities.\",\n",
    "    \"Experts analyze the effects of plastic usage across industries.\",\n",
    "    \"The recycling rate for plastics remained unchanged this year.\"\n",
    "]\n",
    "\n",
    "unrelated_examples = [\n",
    "    \"Plastic surgery is on the rise among millennials.\",\n",
    "    \"A new toy made of plastic is gaining popularity this season.\",\n",
    "    \"The artist uses melted plastic in abstract sculptures.\",\n",
    "    \"Tips on organizing your home with plastic storage boxes.\",\n",
    "    \"Trends in plastic furniture for minimalist interiors.\"\n",
    "]\n",
    "\n",
    "\n",
    "\n",
    "support_emb = model.encode(support_ban_examples, convert_to_tensor=True)\n",
    "oppose_emb = model.encode(oppose_ban_examples, convert_to_tensor=True)\n",
    "neutral_emb = model.encode(neutral_examples, convert_to_tensor=True)\n",
    "unrelated_emb = model.encode(unrelated_examples, convert_to_tensor=True)\n",
    "\n",
    "\n",
    "def label_article(text):\n",
    "    if not isinstance(text, str) or len(text.strip()) == 0:\n",
    "        return \"unlabeled\"\n",
    "\n",
    "    text_emb = model.encode(text, convert_to_tensor=True)\n",
    "\n",
    "    scores = {\n",
    "        \"support_ban\": util.pytorch_cos_sim(text_emb, support_emb).mean(),\n",
    "        \"oppose_ban\": util.pytorch_cos_sim(text_emb, oppose_emb).mean(),\n",
    "        \"neutral\": util.pytorch_cos_sim(text_emb, neutral_emb).mean(),\n",
    "        \"unrelated\": util.pytorch_cos_sim(text_emb, unrelated_emb).mean()\n",
    "    }\n",
    "\n",
    "    best_label = max(scores, key=scores.get)\n",
    "    return best_label\n",
    "\n",
    "\n",
    "df['Semantic_Label_4'] = df['Text'].apply(label_article)\n",
    "\n",
    "df.to_csv(\"labeled_dataset_4_categories.csv\", index=False)\n",
    "print(\"Done! Saved as labeled_dataset_4_categories.csv\")"
   ]
  },
  {
   "cell_type": "code",
   "execution_count": 6,
   "id": "faf1da08-337f-4fef-84c2-3381dfe03f7f",
   "metadata": {},
   "outputs": [
    {
     "data": {
      "text/plain": [
       "Semantic_Label_4\n",
       "support_ban    2249\n",
       "neutral         745\n",
       "oppose_ban      356\n",
       "unrelated        98\n",
       "Name: count, dtype: int64"
      ]
     },
     "execution_count": 6,
     "metadata": {},
     "output_type": "execute_result"
    }
   ],
   "source": [
    "df[\"Semantic_Label_4\"].value_counts()"
   ]
  },
  {
   "cell_type": "code",
   "execution_count": 7,
   "id": "ce316558-48f7-480e-a3f9-3fef608ed198",
   "metadata": {},
   "outputs": [
    {
     "data": {
      "text/html": [
       "<div>\n",
       "<style scoped>\n",
       "    .dataframe tbody tr th:only-of-type {\n",
       "        vertical-align: middle;\n",
       "    }\n",
       "\n",
       "    .dataframe tbody tr th {\n",
       "        vertical-align: top;\n",
       "    }\n",
       "\n",
       "    .dataframe thead th {\n",
       "        text-align: right;\n",
       "    }\n",
       "</style>\n",
       "<table border=\"1\" class=\"dataframe\">\n",
       "  <thead>\n",
       "    <tr style=\"text-align: right;\">\n",
       "      <th></th>\n",
       "      <th>Text</th>\n",
       "      <th>Semantic_Label_4</th>\n",
       "    </tr>\n",
       "  </thead>\n",
       "  <tbody>\n",
       "    <tr>\n",
       "      <th>0</th>\n",
       "      <td>Plastic On The Mind: Assessing the Risks From ...</td>\n",
       "      <td>support_ban</td>\n",
       "    </tr>\n",
       "    <tr>\n",
       "      <th>1</th>\n",
       "      <td>Scenic loch becomes magnet for Scotland's plas...</td>\n",
       "      <td>neutral</td>\n",
       "    </tr>\n",
       "    <tr>\n",
       "      <th>2</th>\n",
       "      <td>Trump rolls back standards for water-using app...</td>\n",
       "      <td>oppose_ban</td>\n",
       "    </tr>\n",
       "    <tr>\n",
       "      <th>3</th>\n",
       "      <td>Why Aren’t We Losing Our Minds Over the Plasti...</td>\n",
       "      <td>support_ban</td>\n",
       "    </tr>\n",
       "    <tr>\n",
       "      <th>4</th>\n",
       "      <td>36 Products That’ll Help Get You Through TSA F...</td>\n",
       "      <td>support_ban</td>\n",
       "    </tr>\n",
       "  </tbody>\n",
       "</table>\n",
       "</div>"
      ],
      "text/plain": [
       "                                                Text Semantic_Label_4\n",
       "0  Plastic On The Mind: Assessing the Risks From ...      support_ban\n",
       "1  Scenic loch becomes magnet for Scotland's plas...          neutral\n",
       "2  Trump rolls back standards for water-using app...       oppose_ban\n",
       "3  Why Aren’t We Losing Our Minds Over the Plasti...      support_ban\n",
       "4  36 Products That’ll Help Get You Through TSA F...      support_ban"
      ]
     },
     "execution_count": 7,
     "metadata": {},
     "output_type": "execute_result"
    }
   ],
   "source": [
    "df.head()"
   ]
  },
  {
   "cell_type": "code",
   "execution_count": null,
   "id": "a5381839-c7c7-40a9-b2cd-d3bbf718d896",
   "metadata": {},
   "outputs": [],
   "source": []
  }
 ],
 "metadata": {
  "kernelspec": {
   "display_name": "Python 3 (ipykernel)",
   "language": "python",
   "name": "python3"
  },
  "language_info": {
   "codemirror_mode": {
    "name": "ipython",
    "version": 3
   },
   "file_extension": ".py",
   "mimetype": "text/x-python",
   "name": "python",
   "nbconvert_exporter": "python",
   "pygments_lexer": "ipython3",
   "version": "3.12.7"
  }
 },
 "nbformat": 4,
 "nbformat_minor": 5
}
